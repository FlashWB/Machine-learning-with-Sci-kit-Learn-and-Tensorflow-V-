{
 "cells": [
  {
   "cell_type": "code",
   "execution_count": 1,
   "metadata": {
    "collapsed": true
   },
   "outputs": [],
   "source": [
    "# imports\n",
    "import numpy as np\n",
    "import matplotlib.pyplot as plt\n",
    "from sklearn import linear_model"
   ]
  },
  {
   "cell_type": "code",
   "execution_count": 2,
   "metadata": {},
   "outputs": [
    {
     "data": {
      "image/png": "[encoded data removed]",
      "text/plain": [
       "<matplotlib.figure.Figure at 0x10ff97550>"
      ]
     },
     "metadata": {},
     "output_type": "display_data"
    }
   ],
   "source": [
    "# Create our dataset\n",
    "dataset = [\n",
    "        [8.5, 26],\n",
    "        [7.2, 22], \n",
    "        [10, 32], \n",
    "        [5.2, 15], \n",
    "        [2, 18], \n",
    "        [3.5, 13],\n",
    "        [8, 19],\n",
    "        [9, 31]]\n",
    "\n",
    "X = np.array([[example[0]] for example in dataset])\n",
    "Y = np.array([[example[1]] for example in dataset])\n",
    "\n",
    "# Visualize our dataset\n",
    "plt.scatter(X, Y,  color='blue')\n",
    "plt.show()"
   ]
  },
  {
   "cell_type": "code",
   "execution_count": 3,
   "metadata": {},
   "outputs": [
    {
     "name": "stdout",
     "output_type": "stream",
     "text": [
      "Mean squared error: 14.394185215\n",
      "Linear Equation: 2.05774559757*x + 8.26454813623\n"
     ]
    },
    {
     "name": "stderr",
     "output_type": "stream",
     "text": [
      "/usr/local/lib/python2.7/site-packages/scipy/linalg/basic.py:1018: RuntimeWarning: internal gelsd driver lwork query error, required iwork dimension not returned. This is likely the result of LAPACK bug 0038, fixed in LAPACK 3.2.2 (released July 21, 2010). Falling back to 'gelss' driver.\n",
      "  warnings.warn(mesg, RuntimeWarning)\n"
     ]
    }
   ],
   "source": [
    "# Create linear regression scikit-learn object\n",
    "model = linear_model.LinearRegression()\n",
    "\n",
    "# Train the model using the training set\n",
    "model.fit(X, Y)\n",
    "Y_prime = model.predict(X)\n",
    "\n",
    "# The mean squared error\n",
    "mean_square_error = np.mean((Y_prime - Y) ** 2.0)\n",
    "print(\"Mean squared error: {}\".format(mean_square_error))\n",
    "\n",
    "# The coefficients\n",
    "print('Linear Equation: {}*x + {}'.format(model.coef_[0][0], model.intercept_[0]))"
   ]
  },
  {
   "cell_type": "code",
   "execution_count": 4,
   "metadata": {},
   "outputs": [
    {
     "data": {
      "image/png": "[encoded data removed]",
      "text/plain": [
       "<matplotlib.figure.Figure at 0x1136ac990>"
      ]
     },
     "metadata": {},
     "output_type": "display_data"
    }
   ],
   "source": [
    "# Plot outputs of model\n",
    "plt.scatter(X, Y,  color='blue')\n",
    "plt.plot(X, Y_prime, color='purple', linewidth=3)\n",
    "\n",
    "plt.show()"
   ]
  },
  {
   "cell_type": "code",
   "execution_count": null,
   "metadata": {
    "collapsed": true
   },
   "outputs": [],
   "source": []
  },
  {
   "cell_type": "code",
   "execution_count": null,
   "metadata": {
    "collapsed": true
   },
   "outputs": [],
   "source": []
  }
 ],
 "metadata": {
  "kernelspec": {
   "display_name": "Python 2",
   "language": "python",
   "name": "python2"
  },
  "language_info": {
   "codemirror_mode": {
    "name": "ipython",
    "version": 2
   },
   "file_extension": ".py",
   "mimetype": "text/x-python",
   "name": "python",
   "nbconvert_exporter": "python",
   "pygments_lexer": "ipython2",
   "version": "2.7.13"
  }
 },
 "nbformat": 4,
 "nbformat_minor": 2
}
