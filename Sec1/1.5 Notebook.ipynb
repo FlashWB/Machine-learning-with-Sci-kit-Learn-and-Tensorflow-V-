{
 "cells": [
  {
   "cell_type": "code",
   "execution_count": 1,
   "metadata": {
    "collapsed": true
   },
   "outputs": [],
   "source": [
    "%matplotlib notebook\n",
    "\n",
    "import numpy as np\n",
    "import pandas as pd\n",
    "import matplotlib.pyplot as plt\n",
    "import sklearn\n",
    "from sklearn.model_selection import train_test_split\n",
    "from sklearn.linear_model import LinearRegression, Ridge, Lasso, ElasticNet\n",
    "import seaborn as sns\n",
    "import csv\n",
    "from sklearn.model_selection import KFold\n",
    "from sklearn.model_selection import GridSearchCV\n",
    "pd.set_option('display.max_columns', None)"
   ]
  },
  {
   "cell_type": "code",
   "execution_count": 2,
   "metadata": {},
   "outputs": [
    {
     "name": "stdout",
     "output_type": "stream",
     "text": [
      "(10000, 2820)\n"
     ]
    }
   ],
   "source": [
    "def get_data():\n",
    "    data_frame = pd.read_csv('data/ad_data/train.csv', nrows=10000)\n",
    "    exclude_from_transformation = ['id', 'click', 'hour', 'device_ip', 'device_id']\n",
    "    headers = data_frame.columns.tolist()\n",
    "    for header in headers:\n",
    "        if header in exclude_from_transformation:\n",
    "            continue\n",
    "        one_hot = pd.get_dummies(data_frame[header], prefix=header)\n",
    "        data_frame = data_frame.drop(header, axis=1)\n",
    "        data_frame = data_frame.join(one_hot)\n",
    "    X = data_frame.drop(['click', 'id', 'hour', 'device_ip', 'device_id'], axis=1)\n",
    "    Y = data_frame['click']\n",
    "    print(X.shape)\n",
    "    X_train, X_test, Y_train, Y_test = train_test_split(X, Y, test_size=1/4., random_state=0)\n",
    "\n",
    "    return X_train, X_test, Y_train, Y_test\n",
    "\n",
    "X_train, X_test, Y_train, Y_test = get_data()"
   ]
  },
  {
   "cell_type": "code",
   "execution_count": 10,
   "metadata": {},
   "outputs": [
    {
     "data": {
      "text/plain": [
       "(2500, 2820)"
      ]
     },
     "execution_count": 10,
     "metadata": {},
     "output_type": "execute_result"
    }
   ],
   "source": [
    "from sklearn.externals import joblib\n",
    "\n",
    "model = joblib.load(open('models/ad_model.pkl', 'r'))\n",
    "ad_data, click_labels = X_test[:5], Y_test[:5]\n",
    "bids = [10, 20, 5, 12, 2]\n",
    "X_test.shape"
   ]
  },
  {
   "cell_type": "code",
   "execution_count": 11,
   "metadata": {
    "collapsed": true
   },
   "outputs": [],
   "source": [
    "def rank_ads(model, ads, bids):\n",
    "    ctr_preds = model.predict(ads)\n",
    "    rank_scores = np.array(ctr_preds*bids)\n",
    "    idx = np.argsort(-rank_scores)\n",
    "    return idx, ctr_preds, rank_scores"
   ]
  },
  {
   "cell_type": "code",
   "execution_count": 12,
   "metadata": {},
   "outputs": [],
   "source": [
    "ad_rankings, ctr_preds, rank_scores = rank_ads(model, ad_data, bids)"
   ]
  },
  {
   "cell_type": "code",
   "execution_count": 13,
   "metadata": {},
   "outputs": [
    {
     "data": {
      "text/plain": [
       "array([3, 0, 2, 4, 1])"
      ]
     },
     "execution_count": 13,
     "metadata": {},
     "output_type": "execute_result"
    }
   ],
   "source": [
    "ad_rankings"
   ]
  },
  {
   "cell_type": "code",
   "execution_count": 14,
   "metadata": {},
   "outputs": [
    {
     "data": {
      "text/plain": [
       "array([ 1.88584557, -0.41718496,  0.66664189,  2.57251385,  0.64767247])"
      ]
     },
     "execution_count": 14,
     "metadata": {},
     "output_type": "execute_result"
    }
   ],
   "source": [
    "rank_scores"
   ]
  },
  {
   "cell_type": "code",
   "execution_count": 15,
   "metadata": {},
   "outputs": [
    {
     "data": {
      "text/plain": [
       "array([ 0.18858456, -0.02085925,  0.13332838,  0.21437615,  0.32383623])"
      ]
     },
     "execution_count": 15,
     "metadata": {},
     "output_type": "execute_result"
    }
   ],
   "source": [
    "ctr_preds"
   ]
  },
  {
   "cell_type": "code",
   "execution_count": null,
   "metadata": {},
   "outputs": [],
   "source": [
    "ctr_preds[ad_rankings]"
   ]
  },
  {
   "cell_type": "code",
   "execution_count": null,
   "metadata": {},
   "outputs": [],
   "source": []
  },
  {
   "cell_type": "code",
   "execution_count": null,
   "metadata": {
    "collapsed": true
   },
   "outputs": [],
   "source": []
  }
 ],
 "metadata": {
  "kernelspec": {
   "display_name": "Python 2",
   "language": "python",
   "name": "python2"
  },
  "language_info": {
   "codemirror_mode": {
    "name": "ipython",
    "version": 2
   },
   "file_extension": ".py",
   "mimetype": "text/x-python",
   "name": "python",
   "nbconvert_exporter": "python",
   "pygments_lexer": "ipython2",
   "version": "2.7.13"
  }
 },
 "nbformat": 4,
 "nbformat_minor": 2
}
